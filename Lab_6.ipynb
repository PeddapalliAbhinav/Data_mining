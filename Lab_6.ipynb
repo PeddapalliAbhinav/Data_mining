{
  "nbformat": 4,
  "nbformat_minor": 0,
  "metadata": {
    "colab": {
      "provenance": [],
      "authorship_tag": "ABX9TyOFhy67qBVAVgCcJi9LDi+2",
      "include_colab_link": true
    },
    "kernelspec": {
      "name": "python3",
      "display_name": "Python 3"
    },
    "language_info": {
      "name": "python"
    }
  },
  "cells": [
    {
      "cell_type": "markdown",
      "metadata": {
        "id": "view-in-github",
        "colab_type": "text"
      },
      "source": [
        "<a href=\"https://colab.research.google.com/github/PeddapalliAbhinav/Data_mining/blob/main/Lab_6.ipynb\" target=\"_parent\"><img src=\"https://colab.research.google.com/assets/colab-badge.svg\" alt=\"Open In Colab\"/></a>"
      ]
    },
    {
      "cell_type": "markdown",
      "source": [
        "Code - 1"
      ],
      "metadata": {
        "id": "-nHMdkrwg78y"
      }
    },
    {
      "cell_type": "code",
      "execution_count": 31,
      "metadata": {
        "id": "5dd9vLAGYWBH"
      },
      "outputs": [],
      "source": [
        "import pandas as pd\n",
        "from sklearn.preprocessing import LabelEncoder, OneHotEncoder"
      ]
    },
    {
      "cell_type": "code",
      "source": [
        "data = {'Category': ['A', 'B', 'C', 'A', 'B']}\n",
        "df = pd.DataFrame(data)"
      ],
      "metadata": {
        "id": "iU2FUU8mYo7i"
      },
      "execution_count": 32,
      "outputs": []
    },
    {
      "cell_type": "code",
      "source": [
        "label_encoder = LabelEncoder()\n",
        "df['label_Encoded'] = label_encoder.fit_transform(df['Category'])"
      ],
      "metadata": {
        "id": "NftvaXuDZPjm"
      },
      "execution_count": 33,
      "outputs": []
    },
    {
      "cell_type": "code",
      "source": [
        "one_hot_encoded = pd.get_dummies(df['Category'], prefix='Category')\n",
        "df = pd.concat([df, one_hot_encoded], axis=1)"
      ],
      "metadata": {
        "id": "-s74ifxkaAJK"
      },
      "execution_count": 34,
      "outputs": []
    },
    {
      "cell_type": "code",
      "source": [
        "print(df)"
      ],
      "metadata": {
        "colab": {
          "base_uri": "https://localhost:8080/"
        },
        "id": "4nRRhXl5aSnG",
        "outputId": "740048e8-7234-46b1-c438-ac01f687188e"
      },
      "execution_count": 35,
      "outputs": [
        {
          "output_type": "stream",
          "name": "stdout",
          "text": [
            "  Category  label_Encoded  Category_A  Category_B  Category_C\n",
            "0        A              0        True       False       False\n",
            "1        B              1       False        True       False\n",
            "2        C              2       False       False        True\n",
            "3        A              0        True       False       False\n",
            "4        B              1       False        True       False\n"
          ]
        }
      ]
    },
    {
      "cell_type": "markdown",
      "source": [
        "Code - 2"
      ],
      "metadata": {
        "id": "Q9Dm1nUrdhoh"
      }
    },
    {
      "cell_type": "code",
      "source": [
        "from datetime import datetime"
      ],
      "metadata": {
        "id": "6Laef3qSdo6G"
      },
      "execution_count": 36,
      "outputs": []
    },
    {
      "cell_type": "code",
      "source": [
        "data = {'Name':['Alice','Bob','Abhinav'],'Date_of_birth':['1990-05-14','1985-08-23','2006-01-31']}\n",
        "df = pd.DataFrame(data)"
      ],
      "metadata": {
        "id": "vmie7Df9dut-"
      },
      "execution_count": 37,
      "outputs": []
    },
    {
      "cell_type": "code",
      "source": [
        "df['Date_of_birth'] = pd.to_datetime(df['Date_of_birth'])"
      ],
      "metadata": {
        "id": "KfOB_gsedvAa"
      },
      "execution_count": 38,
      "outputs": []
    },
    {
      "cell_type": "code",
      "source": [
        "current_year = datetime.now().year\n",
        "df['Age'] = current_year - df['Date_of_birth'].dt.year"
      ],
      "metadata": {
        "id": "JJhvm9eseh5u"
      },
      "execution_count": 39,
      "outputs": []
    },
    {
      "cell_type": "code",
      "source": [
        "print(df)"
      ],
      "metadata": {
        "colab": {
          "base_uri": "https://localhost:8080/"
        },
        "id": "CA5ub0kYeyYl",
        "outputId": "8ca89813-6720-4cd0-9a4d-7c0c4c0e7cda"
      },
      "execution_count": 40,
      "outputs": [
        {
          "output_type": "stream",
          "name": "stdout",
          "text": [
            "      Name Date_of_birth  Age\n",
            "0    Alice    1990-05-14   35\n",
            "1      Bob    1985-08-23   40\n",
            "2  Abhinav    2006-01-31   19\n"
          ]
        }
      ]
    },
    {
      "cell_type": "markdown",
      "source": [
        "Code - 3"
      ],
      "metadata": {
        "id": "0YKlYysnim7L"
      }
    },
    {
      "cell_type": "code",
      "source": [
        "data = {'Category': ['A','A','B','B','C'],\n",
        "        'Value': [10,20,10,30,40]}\n",
        "df = pd.DataFrame(data)"
      ],
      "metadata": {
        "id": "ApID4o3PjgWF"
      },
      "execution_count": 52,
      "outputs": []
    },
    {
      "cell_type": "code",
      "source": [
        "grouped = df.groupby('Category').agg({'Value': ['sum','mean']})\n",
        "print('Grouped Data:\\n',grouped)"
      ],
      "metadata": {
        "id": "8qP_TePqkoOS",
        "outputId": "844179cc-c669-4f67-95c7-7b557bb6e127",
        "colab": {
          "base_uri": "https://localhost:8080/"
        }
      },
      "execution_count": 53,
      "outputs": [
        {
          "output_type": "stream",
          "name": "stdout",
          "text": [
            "Grouped Data:\n",
            "          Value      \n",
            "           sum  mean\n",
            "Category            \n",
            "A           30  15.0\n",
            "B           40  20.0\n",
            "C           40  40.0\n"
          ]
        }
      ]
    },
    {
      "cell_type": "code",
      "source": [
        "pivot = df.pivot_table(index='Category',values='Value',aggfunc=['sum','mean'])\n",
        "print('Pivot Table:\\n',pivot)"
      ],
      "metadata": {
        "id": "Ch5w37JflToS",
        "outputId": "b8aa9da3-810b-45f3-e00f-c2c58c3d923b",
        "colab": {
          "base_uri": "https://localhost:8080/"
        }
      },
      "execution_count": 54,
      "outputs": [
        {
          "output_type": "stream",
          "name": "stdout",
          "text": [
            "Pivot Table:\n",
            "            sum  mean\n",
            "         Value Value\n",
            "Category            \n",
            "A           30  15.0\n",
            "B           40  20.0\n",
            "C           40  40.0\n"
          ]
        }
      ]
    }
  ]
}